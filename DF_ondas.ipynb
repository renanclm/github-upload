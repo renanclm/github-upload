{
 "cells": [
  {
   "cell_type": "code",
   "execution_count": 1,
   "metadata": {
    "ExecuteTime": {
     "end_time": "2020-12-09T19:25:36.675685Z",
     "start_time": "2020-12-09T19:25:35.394821Z"
    }
   },
   "outputs": [],
   "source": [
    "import numpy as np\n",
    "import matplotlib.pyplot as plt\n",
    "%matplotlib qt"
   ]
  },
  {
   "cell_type": "code",
   "execution_count": 2,
   "metadata": {
    "ExecuteTime": {
     "end_time": "2020-12-09T19:25:38.702820Z",
     "start_time": "2020-12-09T19:25:38.697839Z"
    }
   },
   "outputs": [],
   "source": [
    "def func_D2(nx,dx):\n",
    "    D2 = np.zeros((nx,nx))\n",
    "    for n in range(1,nx-1):\n",
    "        D2[n,n-1:n+2] = np.array([1,-2,1])/dx**2\n",
    "    return D2"
   ]
  },
  {
   "cell_type": "code",
   "execution_count": 38,
   "metadata": {
    "ExecuteTime": {
     "end_time": "2020-12-09T14:24:49.171159Z",
     "start_time": "2020-12-09T14:24:48.889413Z"
    }
   },
   "outputs": [],
   "source": [
    "# Grid numerico\n",
    "xmin = -3\n",
    "xmax = 3\n",
    "dx = 0.01\n",
    "x = np.arange(xmin,xmax+dx,dx)\n",
    "nx = len(x)\n",
    "\n",
    "tmax = 10\n",
    "dt = 0.006 # Se for muito grande, estoura\n",
    "t = np.arange(0,tmax+dt,dt)\n",
    "nt = len(t)\n",
    "\n",
    "v = np.ones_like(x)\n",
    "camada = x>-0.5\n",
    "v[camada] = 1.5 # Se for muito grande, estoura\n",
    "v[~camada] = 0.7\n",
    "\n",
    "y = np.zeros((nt,nx)) # Inicializando\n",
    "y0 = np.exp(-(x-0.3)**2/0.05) # Condicao inicial\n",
    "y[0] = y0.copy()\n",
    "y[1] = y0.copy()\n",
    "\n",
    "D2 = func_D2(nx,dx) # Matriz para derivada segunda centrada por DF\n",
    "\n",
    "for ind in range(1,nt-1):\n",
    "    d2ydx2 = D2 @ y[ind] # Derivada segunda no tempo atual\n",
    "    y[ind+1] = 2*y[ind] - y[ind-1] + dt**2 * v**2 * d2ydx2\n",
    "    y[ind+1,[0,-1]] = 0 # Cond de contorno nas extremidades\n"
   ]
  },
  {
   "cell_type": "code",
   "execution_count": 46,
   "metadata": {
    "ExecuteTime": {
     "end_time": "2020-12-09T14:37:53.797432Z",
     "start_time": "2020-12-09T14:37:36.041211Z"
    }
   },
   "outputs": [],
   "source": [
    "plt.figure()\n",
    "for ind in range(0,nt,10): # So ploto a cada 10 passos de tempo\n",
    "    plt.clf() # limpa a figura\n",
    "    plt.plot(x[camada],y[ind,camada])\n",
    "    plt.plot(x[~camada],y[ind,~camada])\n",
    "    plt.ylim(-1.6,1.6) # fixando a escala y\n",
    "    plt.pause(0.001)"
   ]
  },
  {
   "cell_type": "code",
   "execution_count": null,
   "metadata": {},
   "outputs": [],
   "source": [
    "\n",
    "\n",
    "\n",
    "\n",
    "\n",
    "\n",
    "\n",
    "\n",
    "\n",
    "\n"
   ]
  }
 ],
 "metadata": {
  "kernelspec": {
   "display_name": "Python 3",
   "language": "python",
   "name": "python3"
  },
  "language_info": {
   "codemirror_mode": {
    "name": "ipython",
    "version": 3
   },
   "file_extension": ".py",
   "mimetype": "text/x-python",
   "name": "python",
   "nbconvert_exporter": "python",
   "pygments_lexer": "ipython3",
   "version": "3.8.5"
  },
  "varInspector": {
   "cols": {
    "lenName": 16,
    "lenType": 16,
    "lenVar": 40
   },
   "kernels_config": {
    "python": {
     "delete_cmd_postfix": "",
     "delete_cmd_prefix": "del ",
     "library": "var_list.py",
     "varRefreshCmd": "print(var_dic_list())"
    },
    "r": {
     "delete_cmd_postfix": ") ",
     "delete_cmd_prefix": "rm(",
     "library": "var_list.r",
     "varRefreshCmd": "cat(var_dic_list()) "
    }
   },
   "types_to_exclude": [
    "module",
    "function",
    "builtin_function_or_method",
    "instance",
    "_Feature"
   ],
   "window_display": false
  }
 },
 "nbformat": 4,
 "nbformat_minor": 2
}
